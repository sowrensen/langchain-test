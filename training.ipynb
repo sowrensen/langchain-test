{
 "cells": [
  {
   "cell_type": "code",
   "execution_count": 50,
   "metadata": {},
   "outputs": [
    {
     "data": {
      "text/plain": [
       "True"
      ]
     },
     "execution_count": 50,
     "metadata": {},
     "output_type": "execute_result"
    }
   ],
   "source": [
    "# Load environment variables\n",
    "from dotenv import load_dotenv\n",
    "\n",
    "load_dotenv()"
   ]
  },
  {
   "cell_type": "code",
   "execution_count": 51,
   "metadata": {},
   "outputs": [
    {
     "name": "stdout",
     "output_type": "stream",
     "text": [
      "In the realm of Eldoria, a land of sprawling kingdoms and intricate alliances, a cold wind whispered secrets of impending turmoil. Houses of noble lineage vied for power, their ambitions woven into a tapestry of politics, betrayal, and epic battles.\n",
      "\n",
      "At the heart of it all was House Arion, ruling from their majestic fortress atop the Frostpeak Mountains. Led by Lord Cedric Arion, a cunning and shrewd strategist, the House had managed to maintain their grip on the realm despite growing tensions. Yet, beneath the surface, rivalries brewed as they always did.\n",
      "\n",
      "House Valerian, known for their mastery of arcane arts, coveted the coveted Dragonheart Relic, a gem rumored to grant immense power to its possessor. The Valerians, led by Lady Elara Valerian, plotted to steal the relic from the Arions, plunging Eldoria into chaos.\n",
      "\n",
      "Amidst the turmoil, a bastard son of House Arion named Eamon Snow, skilled with a blade and burdened by his illegitimate birth, found himself torn between loyalty to his House and the desire to forge his destiny. As a brewing storm threatened to shatter the realm, Eamon's actions would have far-reaching consequences.\n",
      "\n",
      "Meanwhile, House Drakon, feared for their mastery of dragon-riding, harbored a dark secret. Their matriarch, the enigmatic Lady Seraphina Drakon, sought to unearth an ancient prophecy that promised to reshape the balance of power in Eldoria. With dragonfire and steel, they aimed to seize control and bring about a new era.\n",
      "\n",
      "As Houses clashed and alliances shattered, unexpected heroes emerged. A mysterious rogue named Lysandra traversed the treacherous lands, carrying a message that could unravel a web of lies. A fallen knight named Ser Jorran sought redemption in the face of overwhelming odds. And a wildling seer named Lyra, connected to the land's ancient magic, tried to prevent the cataclysm foreseen in her visions.\n",
      "\n",
      "With battles raging across Eldoria, alliances formed and crumbled, and destinies entwined, the fate of the realm hung in the balance. In the end, as winter's chill deepened and the fires of conflict blazed brighter, the question remained: Who would emerge victorious and claim the Iron Throne of Eldoria, securing their legacy for generations to come?\n",
      "\n"
     ]
    }
   ],
   "source": [
    "# Setup a document loader\n",
    "from langchain.document_loaders import TextLoader\n",
    "\n",
    "loader = TextLoader(\"story_1.txt\")\n",
    "docs = loader.load()\n",
    "print(docs[0].page_content)"
   ]
  },
  {
   "cell_type": "code",
   "execution_count": 52,
   "metadata": {},
   "outputs": [
    {
     "data": {
      "text/plain": [
       "'In the realm of Eldoria, a land of sprawling kingdoms and intricate alliances, a cold wind whispered'"
      ]
     },
     "execution_count": 52,
     "metadata": {},
     "output_type": "execute_result"
    }
   ],
   "source": [
    "# Split the text\n",
    "from langchain.text_splitter import RecursiveCharacterTextSplitter\n",
    "\n",
    "text_splitter = RecursiveCharacterTextSplitter(\n",
    "    chunk_size=100,\n",
    "    chunk_overlap=20,\n",
    "    length_function=len,\n",
    "    is_separator_regex=False\n",
    ")\n",
    "\n",
    "texts = text_splitter.split_documents(docs)\n",
    "texts[0].page_content"
   ]
  },
  {
   "cell_type": "code",
   "execution_count": 53,
   "metadata": {},
   "outputs": [],
   "source": [
    "# Create an embedding\n",
    "from langchain.embeddings import OpenAIEmbeddings\n",
    "\n",
    "embeddings = OpenAIEmbeddings()"
   ]
  },
  {
   "cell_type": "code",
   "execution_count": 54,
   "metadata": {},
   "outputs": [],
   "source": [
    "# Create a vector store using meilisearch\n",
    "from langchain.vectorstores import Meilisearch\n",
    "\n",
    "# persist_directory = 'db'\n",
    "# vectordb = Chroma.from_documents(documents=texts, embedding=embeddings, persist_directory=persist_directory)\n",
    "vectordb = Meilisearch.from_documents(documents=texts, embedding=embeddings, index_name='quipbot-test')"
   ]
  },
  {
   "cell_type": "code",
   "execution_count": null,
   "metadata": {},
   "outputs": [],
   "source": [
    "# Search in our vector store\n",
    "query = \"Who was the lord of House Arion?\"\n",
    "docs = vectordb.similarity_search(query)\n",
    "print(docs[0].page_content)"
   ]
  },
  {
   "cell_type": "code",
   "execution_count": null,
   "metadata": {},
   "outputs": [],
   "source": [
    "# Create a retriever from the vector db\n",
    "retriever = vectordb.as_retriever()\n",
    "retriever.get_relevant_documents(query=query)"
   ]
  },
  {
   "cell_type": "code",
   "execution_count": null,
   "metadata": {},
   "outputs": [],
   "source": [
    "# Create a conversation agent\n",
    "from langchain.chains.conversation.memory import ConversationBufferMemory\n",
    "from langchain.chat_models import ChatOpenAI\n",
    "from langchain.chains import RetrievalQA\n",
    "\n",
    "llm = ChatOpenAI(model='gpt-3.5-turbo', temperature=0, max_tokens=500)\n",
    "memory = ConversationBufferMemory()\n",
    "# conversation = ConversationalRetrievalChain.from_llm(llm=llm, retriever=retriever, chain_type='stuff')\n",
    "qa_chain = RetrievalQA.from_chain_type(llm=llm, retriever=retriever)"
   ]
  },
  {
   "cell_type": "code",
   "execution_count": null,
   "metadata": {},
   "outputs": [],
   "source": [
    "# Test the retriever\n",
    "response = qa_chain(query)\n",
    "# response = conversation.predict(input=\"What is my name?\")\n",
    "response['result']"
   ]
  },
  {
   "cell_type": "code",
   "execution_count": null,
   "metadata": {},
   "outputs": [],
   "source": []
  }
 ],
 "metadata": {
  "kernelspec": {
   "display_name": "Python 3",
   "language": "python",
   "name": "python3"
  },
  "language_info": {
   "codemirror_mode": {
    "name": "ipython",
    "version": 3
   },
   "file_extension": ".py",
   "mimetype": "text/x-python",
   "name": "python",
   "nbconvert_exporter": "python",
   "pygments_lexer": "ipython3",
   "version": "3.10.0"
  },
  "orig_nbformat": 4
 },
 "nbformat": 4,
 "nbformat_minor": 2
}
