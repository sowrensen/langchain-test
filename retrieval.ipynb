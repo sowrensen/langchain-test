{
 "cells": [
  {
   "cell_type": "code",
   "execution_count": 8,
   "metadata": {},
   "outputs": [
    {
     "data": {
      "text/plain": [
       "True"
      ]
     },
     "execution_count": 8,
     "metadata": {},
     "output_type": "execute_result"
    }
   ],
   "source": [
    "# Load environment variables\n",
    "from dotenv import load_dotenv\n",
    "\n",
    "load_dotenv()"
   ]
  },
  {
   "cell_type": "code",
   "execution_count": 11,
   "metadata": {},
   "outputs": [],
   "source": [
    "# Create embeddings and a vector db out of stored index\n",
    "from langchain.embeddings import OpenAIEmbeddings\n",
    "from langchain.vectorstores import Meilisearch\n",
    "\n",
    "embeddings = OpenAIEmbeddings()\n",
    "vectordb = Meilisearch(embedding=embeddings, index_name='quipbot-test')"
   ]
  },
  {
   "cell_type": "code",
   "execution_count": 12,
   "metadata": {},
   "outputs": [
    {
     "data": {
      "text/plain": [
       "[Document(page_content='At the heart of it all was House Arion, ruling from their majestic fortress atop the Frostpeak', metadata={'source': 'story_1.txt'}),\n",
       " Document(page_content='atop the Frostpeak Mountains. Led by Lord Cedric Arion, a cunning and shrewd strategist, the House', metadata={'source': 'story_1.txt'}),\n",
       " Document(page_content='Amidst the turmoil, a bastard son of House Arion named Eamon Snow, skilled with a blade and', metadata={'source': 'story_1.txt'}),\n",
       " Document(page_content='could unravel a web of lies. A fallen knight named Ser Jorran sought redemption in the face of', metadata={'source': 'story_1.txt'})]"
      ]
     },
     "execution_count": 12,
     "metadata": {},
     "output_type": "execute_result"
    }
   ],
   "source": [
    "# Create a retriever from the vector db\n",
    "retriever = vectordb.as_retriever()\n",
    "\n",
    "query = \"Who was the lord of House Arion?\"\n",
    "retriever.get_relevant_documents(query=query)"
   ]
  },
  {
   "cell_type": "code",
   "execution_count": 6,
   "metadata": {},
   "outputs": [],
   "source": [
    "# Create a conversation agent\n",
    "from langchain.chains.conversation.memory import ConversationBufferMemory\n",
    "from langchain.chat_models import ChatOpenAI\n",
    "from langchain.chains import RetrievalQA\n",
    "\n",
    "llm = ChatOpenAI(model='gpt-3.5-turbo', temperature=0, max_tokens=500)\n",
    "memory = ConversationBufferMemory()\n",
    "# conversation = ConversationalRetrievalChain.from_llm(llm=llm, retriever=retriever, chain_type='stuff')\n",
    "qa_chain = RetrievalQA.from_chain_type(llm=llm, retriever=retriever)"
   ]
  },
  {
   "cell_type": "code",
   "execution_count": 7,
   "metadata": {},
   "outputs": [
    {
     "data": {
      "text/plain": [
       "'The lord of House Arion was Lord Cedric Arion.'"
      ]
     },
     "execution_count": 7,
     "metadata": {},
     "output_type": "execute_result"
    }
   ],
   "source": [
    "# Test the retriever\n",
    "response = qa_chain(query)\n",
    "response['result']"
   ]
  },
  {
   "cell_type": "code",
   "execution_count": null,
   "metadata": {},
   "outputs": [],
   "source": []
  }
 ],
 "metadata": {
  "kernelspec": {
   "display_name": "Python 3",
   "language": "python",
   "name": "python3"
  },
  "language_info": {
   "codemirror_mode": {
    "name": "ipython",
    "version": 3
   },
   "file_extension": ".py",
   "mimetype": "text/x-python",
   "name": "python",
   "nbconvert_exporter": "python",
   "pygments_lexer": "ipython3",
   "version": "3.10.0"
  },
  "orig_nbformat": 4
 },
 "nbformat": 4,
 "nbformat_minor": 2
}
