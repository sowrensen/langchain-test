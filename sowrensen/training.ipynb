{
 "cells": [
  {
   "cell_type": "code",
   "execution_count": 1,
   "metadata": {},
   "outputs": [
    {
     "data": {
      "text/plain": [
       "True"
      ]
     },
     "execution_count": 1,
     "metadata": {},
     "output_type": "execute_result"
    }
   ],
   "source": [
    "# Load environment variables\n",
    "from dotenv import load_dotenv\n",
    "\n",
    "load_dotenv()"
   ]
  },
  {
   "cell_type": "code",
   "execution_count": 4,
   "metadata": {},
   "outputs": [
    {
     "name": "stdout",
     "output_type": "stream",
     "text": [
      "question: Who is Sowren Sen?\n"
     ]
    }
   ],
   "source": [
    "# Setup a document loader\n",
    "from langchain.document_loaders import TextLoader\n",
    "from langchain.text_splitter import RecursiveCharacterTextSplitter\n",
    "\n",
    "loader = TextLoader(\"training-data/throwing_exceptions.txt\")\n",
    "splitter = RecursiveCharacterTextSplitter(\n",
    "    chunk_size=300,\n",
    "    chunk_overlap=20,\n",
    "    length_function=len,\n",
    "    is_separator_regex=False\n",
    ")\n",
    "docs = loader.load_and_split(text_splitter=splitter)\n",
    "print(docs[0].page_content[:100])"
   ]
  },
  {
   "cell_type": "code",
   "execution_count": 6,
   "metadata": {},
   "outputs": [],
   "source": [
    "# Create vector store and embedding\n",
    "from langchain.vectorstores import FAISS\n",
    "from langchain.embeddings import OpenAIEmbeddings\n",
    "\n",
    "vectordb = FAISS.from_documents(\n",
    "    documents=docs, \n",
    "    embedding=OpenAIEmbeddings()\n",
    ")"
   ]
  },
  {
   "cell_type": "code",
   "execution_count": 7,
   "metadata": {},
   "outputs": [
    {
     "data": {
      "text/plain": [
       "[(Document(page_content='question: Who is Sowren Sen?', metadata={'source': 'training-data/throwing_exceptions.txt'}),\n",
       "  0.1093835),\n",
       " (Document(page_content='question: Which software and apps does Sowren Sen use?', metadata={'source': 'training-data/throwing_exceptions.txt'}),\n",
       "  0.28734285),\n",
       " (Document(page_content='answer: Sowren Sen is a Software Engineer with a primary focus on using Laravel and Vue.js to construct large-scale, high-performing, and intricate web applications. He occasionally employs Python to develop micro-services. Sowren is deeply passionate about clean coding and has been in the', metadata={'source': 'training-data/throwing_exceptions.txt'}),\n",
       "  0.29793367),\n",
       " (Document(page_content='question: What projects have Sowren worked on?\\nBesides work projects, Sowren Sen has actively contributed to the open-source community by creating several projects:', metadata={'source': 'training-data/throwing_exceptions.txt'}),\n",
       "  0.32999182)]"
      ]
     },
     "execution_count": 7,
     "metadata": {},
     "output_type": "execute_result"
    }
   ],
   "source": [
    "# Test the vector db \n",
    "vectordb.similarity_search_with_score(\"who is sowren sen?\")"
   ]
  },
  {
   "cell_type": "code",
   "execution_count": 8,
   "metadata": {},
   "outputs": [],
   "source": [
    "# If documents are relevant store the data\n",
    "vectordb.save_local(\n",
    "    folder_path='training-data',\n",
    "    index_name='throwing-exceptions'\n",
    ")"
   ]
  },
  {
   "cell_type": "code",
   "execution_count": null,
   "metadata": {},
   "outputs": [],
   "source": []
  }
 ],
 "metadata": {
  "kernelspec": {
   "display_name": "langchain",
   "language": "python",
   "name": "python3"
  },
  "language_info": {
   "codemirror_mode": {
    "name": "ipython",
    "version": 3
   },
   "file_extension": ".py",
   "mimetype": "text/x-python",
   "name": "python",
   "nbconvert_exporter": "python",
   "pygments_lexer": "ipython3",
   "version": "3.10.0"
  },
  "orig_nbformat": 4
 },
 "nbformat": 4,
 "nbformat_minor": 2
}
