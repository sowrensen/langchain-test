{
 "cells": [
  {
   "cell_type": "code",
   "execution_count": 3,
   "metadata": {},
   "outputs": [
    {
     "data": {
      "text/plain": [
       "True"
      ]
     },
     "execution_count": 3,
     "metadata": {},
     "output_type": "execute_result"
    }
   ],
   "source": [
    "# Load environment variables\n",
    "from dotenv import load_dotenv\n",
    "\n",
    "load_dotenv()"
   ]
  },
  {
   "cell_type": "code",
   "execution_count": 4,
   "metadata": {},
   "outputs": [
    {
     "name": "stdout",
     "output_type": "stream",
     "text": [
      "You are a Ai bot for LaSara Medical Group\n",
      "\n",
      "About LaSara Medical Group LaSara Medical Group specializ\n"
     ]
    }
   ],
   "source": [
    "# Setup a document loader\n",
    "from langchain.document_loaders import DirectoryLoader\n",
    "\n",
    "loader = DirectoryLoader('./', \"*.txt\")\n",
    "docs = loader.load()\n",
    "print(docs[0].page_content[:100])"
   ]
  },
  {
   "cell_type": "code",
   "execution_count": 5,
   "metadata": {},
   "outputs": [
    {
     "data": {
      "text/plain": [
       "'You are a Ai bot for LaSara Medical Group'"
      ]
     },
     "execution_count": 5,
     "metadata": {},
     "output_type": "execute_result"
    }
   ],
   "source": [
    "# Split the text\n",
    "from langchain.text_splitter import RecursiveCharacterTextSplitter\n",
    "\n",
    "text_splitter = RecursiveCharacterTextSplitter(\n",
    "    chunk_size=100,\n",
    "    chunk_overlap=20,\n",
    "    length_function=len,\n",
    "    is_separator_regex=False\n",
    ")\n",
    "\n",
    "texts = text_splitter.split_documents(docs)\n",
    "texts[0].page_content"
   ]
  },
  {
   "cell_type": "code",
   "execution_count": 6,
   "metadata": {},
   "outputs": [],
   "source": [
    "# Create an embedding\n",
    "from langchain.embeddings import OpenAIEmbeddings\n",
    "\n",
    "embeddings = OpenAIEmbeddings()"
   ]
  },
  {
   "cell_type": "code",
   "execution_count": 13,
   "metadata": {},
   "outputs": [],
   "source": [
    "# Create a vector store using zep\n",
    "from langchain.vectorstores.zep import CollectionConfig\n",
    "from langchain.vectorstores import ZepVectorStore\n",
    "import os\n",
    "\n",
    "# Collection config is needed if we're creating a new Zep Collection\n",
    "config = CollectionConfig(\n",
    "    name='lasaraknowledge',\n",
    "    description=\"documents regarding lasara medical group\",\n",
    "    metadata={},\n",
    "    is_auto_embedded=False,\n",
    "    embedding_dimensions=1536  # this should match the model you've configured Zep to use.\n",
    ")\n",
    "\n",
    "vectordb = ZepVectorStore.from_documents(\n",
    "    documents=texts, \n",
    "    collection_name='lasaraknowledge',\n",
    "    embedding=embeddings, \n",
    "    config=config,\n",
    "    api_url=os.environ['ZEP_API_URL'],\n",
    ")"
   ]
  },
  {
   "cell_type": "code",
   "execution_count": 14,
   "metadata": {},
   "outputs": [
    {
     "name": "stdout",
     "output_type": "stream",
     "text": [
      "for schedule free consultation visit https://calendly.com/d/grf-5sr-mtt this url\n"
     ]
    }
   ],
   "source": [
    "# Search in our vector store\n",
    "query = \"I want a free consultation.\"\n",
    "docs = vectordb.similarity_search(query)\n",
    "print(docs[0].page_content)"
   ]
  },
  {
   "cell_type": "code",
   "execution_count": 15,
   "metadata": {},
   "outputs": [
    {
     "data": {
      "text/plain": [
       "[Document(page_content='for schedule free consultation visit https://calendly.com/d/grf-5sr-mtt this url', metadata={'source': 'booking_url.txt'}),\n",
       " Document(page_content='with the doctor. Testimonials', metadata={'source': 'about_page.txt'}),\n",
       " Document(page_content='first step towards restoring natural functionality by scheduling a visit with the doctor.', metadata={'source': 'about_page.txt'}),\n",
       " Document(page_content='Testimonials:', metadata={'source': 'home_page.txt'})]"
      ]
     },
     "execution_count": 15,
     "metadata": {},
     "output_type": "execute_result"
    }
   ],
   "source": [
    "# Create a retriever from the vector db\n",
    "retriever = vectordb.as_retriever()\n",
    "retriever.get_relevant_documents(query=query)"
   ]
  },
  {
   "cell_type": "code",
   "execution_count": 16,
   "metadata": {},
   "outputs": [],
   "source": [
    "# Create a conversation agent\n",
    "from langchain.chat_models import ChatOpenAI\n",
    "from langchain.chains import RetrievalQA\n",
    "\n",
    "llm = ChatOpenAI(model='gpt-3.5-turbo', temperature=0, max_tokens=500)\n",
    "qa_chain = RetrievalQA.from_chain_type(llm=llm, retriever=retriever)"
   ]
  },
  {
   "cell_type": "code",
   "execution_count": 17,
   "metadata": {},
   "outputs": [
    {
     "data": {
      "text/plain": [
       "'You can schedule a free consultation with the doctor by visiting this URL: https://calendly.com/d/grf-5sr-mtt.'"
      ]
     },
     "execution_count": 17,
     "metadata": {},
     "output_type": "execute_result"
    }
   ],
   "source": [
    "# Test the retriever\n",
    "response = qa_chain(query)\n",
    "response['result']"
   ]
  },
  {
   "cell_type": "code",
   "execution_count": null,
   "metadata": {},
   "outputs": [],
   "source": []
  }
 ],
 "metadata": {
  "kernelspec": {
   "display_name": "Python 3",
   "language": "python",
   "name": "python3"
  },
  "language_info": {
   "codemirror_mode": {
    "name": "ipython",
    "version": 3
   },
   "file_extension": ".py",
   "mimetype": "text/x-python",
   "name": "python",
   "nbconvert_exporter": "python",
   "pygments_lexer": "ipython3",
   "version": "3.10.0"
  },
  "orig_nbformat": 4
 },
 "nbformat": 4,
 "nbformat_minor": 2
}
