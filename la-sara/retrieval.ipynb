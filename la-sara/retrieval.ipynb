{
 "cells": [
  {
   "cell_type": "code",
   "execution_count": 2,
   "metadata": {},
   "outputs": [
    {
     "data": {
      "text/plain": [
       "True"
      ]
     },
     "execution_count": 2,
     "metadata": {},
     "output_type": "execute_result"
    }
   ],
   "source": [
    "# Load environment variables\n",
    "from dotenv import load_dotenv\n",
    "\n",
    "load_dotenv()"
   ]
  },
  {
   "cell_type": "code",
   "execution_count": 3,
   "metadata": {},
   "outputs": [
    {
     "name": "stderr",
     "output_type": "stream",
     "text": [
      "/Users/sowrensen/Projects/ai/quipbot/.venv/lib/python3.10/site-packages/zep_python/zep_client.py:86: Warning: You are using an incompatible Zep server version. Please upgrade to {MINIMUM_SERVER_VERSION} or later.\n",
      "  self._healthcheck(base_url)\n"
     ]
    }
   ],
   "source": [
    "# Create embeddings and a vector db out of stored index\n",
    "from langchain.embeddings import OpenAIEmbeddings\n",
    "from langchain.vectorstores import ZepVectorStore\n",
    "import os\n",
    "\n",
    "embeddings = OpenAIEmbeddings()\n",
    "vectordb = ZepVectorStore('lasaraknowledge', os.environ['ZEP_API_URL'], embedding=embeddings)"
   ]
  },
  {
   "cell_type": "code",
   "execution_count": 4,
   "metadata": {},
   "outputs": [
    {
     "data": {
      "text/plain": [
       "[Document(page_content='for schedule free consultation visit https://calendly.com/d/grf-5sr-mtt this url', metadata={'source': 'booking_url.txt'}),\n",
       " Document(page_content='with the doctor. Testimonials', metadata={'source': 'about_page.txt'}),\n",
       " Document(page_content='first step towards restoring natural functionality by scheduling a visit with the doctor.', metadata={'source': 'about_page.txt'}),\n",
       " Document(page_content='Testimonials:', metadata={'source': 'home_page.txt'})]"
      ]
     },
     "execution_count": 4,
     "metadata": {},
     "output_type": "execute_result"
    }
   ],
   "source": [
    "# Create a retriever from the vector db\n",
    "retriever = vectordb.as_retriever()\n",
    "\n",
    "query = \"I want a free consultation.\"\n",
    "retriever.get_relevant_documents(query=query)"
   ]
  },
  {
   "cell_type": "code",
   "execution_count": 5,
   "metadata": {},
   "outputs": [],
   "source": [
    "# Create a conversation agent\n",
    "from langchain.chains.conversation.memory import ConversationBufferWindowMemory\n",
    "from langchain.chat_models import ChatOpenAI\n",
    "from langchain.chains import RetrievalQA\n",
    "\n",
    "llm = ChatOpenAI(model='gpt-3.5-turbo', temperature=0.5)\n",
    "conversational_memory = ConversationBufferWindowMemory(memory_key='chat_history', k=5, return_messages=True)\n",
    "qa = RetrievalQA.from_chain_type(llm=llm, retriever=retriever, chain_type=\"stuff\")"
   ]
  },
  {
   "cell_type": "code",
   "execution_count": 6,
   "metadata": {},
   "outputs": [
    {
     "data": {
      "text/plain": [
       "'Great! You can schedule a free consultation with the doctor by visiting this URL: https://calendly.com/d/grf-5sr-mtt.'"
      ]
     },
     "execution_count": 6,
     "metadata": {},
     "output_type": "execute_result"
    }
   ],
   "source": [
    "# Test the retriever\n",
    "qa.run(query)"
   ]
  },
  {
   "cell_type": "code",
   "execution_count": 7,
   "metadata": {},
   "outputs": [],
   "source": [
    "# Let's convert the retrieval chain into a tool\n",
    "from langchain.agents import Tool\n",
    "\n",
    "tools = [\n",
    "    Tool(\n",
    "        name='LaSara Knowledge Base', \n",
    "        func=qa.run, \n",
    "        description='use this tool when answering general knowledge queries to get more information about lasara medical group'\n",
    "    )\n",
    "]"
   ]
  },
  {
   "cell_type": "code",
   "execution_count": 8,
   "metadata": {},
   "outputs": [],
   "source": [
    "# Now, we can initialize the agent\n",
    "from langchain.agents import initialize_agent\n",
    "from langchain.agents import AgentType\n",
    "\n",
    "system_message = \"You are an intelligent AI assistant for LaSara Medical Group. Provide necessary information about LaSara Medical Group that are asked to you. Look into your knowledge database for information. In case anything is not found, politely say that you don't know.\"\n",
    "\n",
    "agent = initialize_agent(\n",
    "    agent=AgentType.CHAT_CONVERSATIONAL_REACT_DESCRIPTION,\n",
    "    tools=tools,\n",
    "    llm=llm,\n",
    "    verbose=True,\n",
    "    max_iterations=5,\n",
    "    early_stopping_method='generate',\n",
    "    memory=conversational_memory,\n",
    "    agent_kwargs={\n",
    "             \"system_message\": system_message\n",
    "            }\n",
    ")\n"
   ]
  },
  {
   "cell_type": "code",
   "execution_count": 9,
   "metadata": {},
   "outputs": [
    {
     "name": "stdout",
     "output_type": "stream",
     "text": [
      "\n",
      "\n",
      "\u001b[1m> Entering new AgentExecutor chain...\u001b[0m\n",
      "\u001b[32;1m\u001b[1;3m{\n",
      "    \"action\": \"Final Answer\",\n",
      "    \"action_input\": \"To book a consultation with LaSara Medical Group, you can call their office at +1-123-456-7890 or visit their website at www.lasaramedicalgroup.com to schedule an appointment online. They also have a patient portal where you can request an appointment and communicate with your healthcare provider.\"\n",
      "}\u001b[0m\n",
      "\n",
      "\u001b[1m> Finished chain.\u001b[0m\n"
     ]
    },
    {
     "data": {
      "text/plain": [
       "'To book a consultation with LaSara Medical Group, you can call their office at +1-123-456-7890 or visit their website at www.lasaramedicalgroup.com to schedule an appointment online. They also have a patient portal where you can request an appointment and communicate with your healthcare provider.'"
      ]
     },
     "execution_count": 9,
     "metadata": {},
     "output_type": "execute_result"
    }
   ],
   "source": [
    "agent.run(\"hi i'm david. how can I book a consultancy?\")"
   ]
  },
  {
   "cell_type": "code",
   "execution_count": 16,
   "metadata": {},
   "outputs": [
    {
     "name": "stdout",
     "output_type": "stream",
     "text": [
      "\n",
      "\n",
      "\u001b[1m> Entering new AgentExecutor chain...\u001b[0m\n",
      "\u001b[32;1m\u001b[1;3m{\n",
      "    \"action\": \"Final Answer\",\n",
      "    \"action_input\": \"- Shockwave treatments for erectile dysfunction\\n- Regenerative medicine\\n- Optimizing men's health\\n- Other specialized treatments for ED\"\n",
      "}\u001b[0m\n",
      "\n",
      "\u001b[1m> Finished chain.\u001b[0m\n"
     ]
    },
    {
     "data": {
      "text/plain": [
       "\"- Shockwave treatments for erectile dysfunction\\n- Regenerative medicine\\n- Optimizing men's health\\n- Other specialized treatments for ED\""
      ]
     },
     "execution_count": 16,
     "metadata": {},
     "output_type": "execute_result"
    }
   ],
   "source": [
    "agent.run('What services do they offer? List out using bullet points.')"
   ]
  },
  {
   "cell_type": "code",
   "execution_count": 11,
   "metadata": {},
   "outputs": [
    {
     "name": "stdout",
     "output_type": "stream",
     "text": [
      "\n",
      "\n",
      "\u001b[1m> Entering new AgentExecutor chain...\u001b[0m\n",
      "\u001b[32;1m\u001b[1;3m{\n",
      "    \"action\": \"Final Answer\",\n",
      "    \"action_input\": \"Your name is David.\"\n",
      "}\u001b[0m\n",
      "\n",
      "\u001b[1m> Finished chain.\u001b[0m\n"
     ]
    },
    {
     "data": {
      "text/plain": [
       "'Your name is David.'"
      ]
     },
     "execution_count": 11,
     "metadata": {},
     "output_type": "execute_result"
    }
   ],
   "source": [
    "agent.run('What was my name?')"
   ]
  },
  {
   "cell_type": "code",
   "execution_count": 17,
   "metadata": {},
   "outputs": [
    {
     "name": "stdout",
     "output_type": "stream",
     "text": [
      "\n",
      "\n",
      "\u001b[1m> Entering new AgentExecutor chain...\u001b[0m\n",
      "\u001b[32;1m\u001b[1;3m{\n",
      "    \"action\": \"LaSara Knowledge Base\",\n",
      "    \"action_input\": \"office locations\"\n",
      "}\u001b[0m\n",
      "Observation: \u001b[36;1m\u001b[1;3mBased on the provided context, the office locations are:\n",
      "\n",
      "1. 8929 University Center Ln Suite 100, San Diego, CA 92122\n",
      "2. 11500 W Olympic Blvd, Suite 440, Los Angeles, CA 90064\n",
      "3. Bristol St, 2nd Floor, Costa Mesa, CA 92626\u001b[0m\n",
      "Thought:\u001b[32;1m\u001b[1;3m{\n",
      "    \"action\": \"Final Answer\",\n",
      "    \"action_input\": \"LaSara Medical Group has office locations at 8929 University Center Ln Suite 100, San Diego, CA 92122; 11500 W Olympic Blvd, Suite 440, Los Angeles, CA 90064; and Bristol St, 2nd Floor, Costa Mesa, CA 92626.\"\n",
      "}\u001b[0m\n",
      "\n",
      "\u001b[1m> Finished chain.\u001b[0m\n"
     ]
    },
    {
     "data": {
      "text/plain": [
       "'LaSara Medical Group has office locations at 8929 University Center Ln Suite 100, San Diego, CA 92122; 11500 W Olympic Blvd, Suite 440, Los Angeles, CA 90064; and Bristol St, 2nd Floor, Costa Mesa, CA 92626.'"
      ]
     },
     "execution_count": 17,
     "metadata": {},
     "output_type": "execute_result"
    }
   ],
   "source": [
    "agent.run('Give me office locations of LaSara')"
   ]
  },
  {
   "cell_type": "code",
   "execution_count": 14,
   "metadata": {},
   "outputs": [
    {
     "name": "stdout",
     "output_type": "stream",
     "text": [
      "\n",
      "\n",
      "\u001b[1m> Entering new AgentExecutor chain...\u001b[0m\n",
      "\u001b[32;1m\u001b[1;3m{\n",
      "    \"action\": \"LaSara Knowledge Base\",\n",
      "    \"action_input\": \"number of shockwave treatments completed by LaSara Medical Group\"\n",
      "}\u001b[0m\n",
      "Observation: \u001b[36;1m\u001b[1;3mLaSara Medical Group has completed over 11,000 shockwave treatments since 2017.\u001b[0m\n",
      "Thought:\u001b[32;1m\u001b[1;3m{\n",
      "    \"action\": \"Final Answer\",\n",
      "    \"action_input\": \"LaSara Medical Group has completed over 11,000 shockwave treatments since 2017.\"\n",
      "}\u001b[0m\n",
      "\n",
      "\u001b[1m> Finished chain.\u001b[0m\n"
     ]
    },
    {
     "data": {
      "text/plain": [
       "'LaSara Medical Group has completed over 11,000 shockwave treatments since 2017.'"
      ]
     },
     "execution_count": 14,
     "metadata": {},
     "output_type": "execute_result"
    }
   ],
   "source": [
    "agent.run('How many shockwave treatments had LaSara completed?')"
   ]
  },
  {
   "cell_type": "code",
   "execution_count": null,
   "metadata": {},
   "outputs": [],
   "source": []
  }
 ],
 "metadata": {
  "kernelspec": {
   "display_name": "Python 3",
   "language": "python",
   "name": "python3"
  },
  "language_info": {
   "codemirror_mode": {
    "name": "ipython",
    "version": 3
   },
   "file_extension": ".py",
   "mimetype": "text/x-python",
   "name": "python",
   "nbconvert_exporter": "python",
   "pygments_lexer": "ipython3",
   "version": "3.10.0"
  },
  "orig_nbformat": 4
 },
 "nbformat": 4,
 "nbformat_minor": 2
}
