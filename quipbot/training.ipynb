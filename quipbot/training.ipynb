{
 "cells": [
  {
   "cell_type": "code",
   "execution_count": 1,
   "metadata": {},
   "outputs": [],
   "source": [
    "import os\n",
    "from pathlib import Path\n",
    "from langchain.vectorstores import ZepVectorStore\n",
    "from langchain.vectorstores.zep import CollectionConfig\n",
    "from langchain.document_loaders import DirectoryLoader, TextLoader\n",
    "from langchain.document_loaders import PyPDFDirectoryLoader\n",
    "from langchain.text_splitter import RecursiveCharacterTextSplitter\n",
    "from langchain.embeddings import OpenAIEmbeddings\n",
    "from dotenv import load_dotenv"
   ]
  },
  {
   "cell_type": "code",
   "execution_count": 3,
   "metadata": {},
   "outputs": [],
   "source": [
    "# Load environment variables\n",
    "load_dotenv()\n",
    "\n",
    "ZEP_API_URL = os.environ.get('ZEP_API_URL')\n",
    "ZEP_API_KEY = os.environ.get('ZEP_API_KEY')\n",
    "JSON_DATA_PATH = 'training-data/json'\n",
    "PDF_DATA_PATH = 'training-data/pdf'"
   ]
  },
  {
   "cell_type": "code",
   "execution_count": 6,
   "metadata": {},
   "outputs": [],
   "source": [
    "# Define a splitter\n",
    "text_splitter = RecursiveCharacterTextSplitter(\n",
    "    chunk_size=200,\n",
    "    chunk_overlap=20,\n",
    "    length_function=len,\n",
    "    is_separator_regex=False\n",
    ")\n",
    "\n",
    "# Load json training data\n",
    "json_loader = DirectoryLoader(\n",
    "    path=JSON_DATA_PATH,\n",
    "    glob=\"*.json\",\n",
    "    show_progress=True,\n",
    "    use_multithreading=True,\n",
    "    loader_cls=TextLoader\n",
    ")\n",
    "\n",
    "# Load pdf training data\n",
    "pdf_loader = PyPDFDirectoryLoader(PDF_DATA_PATH)"
   ]
  },
  {
   "cell_type": "code",
   "execution_count": null,
   "metadata": {},
   "outputs": [],
   "source": [
    "# Merge both training data\n",
    "docs = []\n",
    "loaders = [json_loader, pdf_loader]\n",
    "\n",
    "for loader in loaders:\n",
    "    docs.extend(loader.load_and_split(text_splitter=text_splitter))\n",
    "\n",
    "docs[0].page_content"
   ]
  },
  {
   "cell_type": "code",
   "execution_count": 8,
   "metadata": {},
   "outputs": [],
   "source": [
    "# Create embeddings\n",
    "embeddings = OpenAIEmbeddings()\n",
    "\n",
    "\n",
    "# Collection config is needed if we're creating a new Zep Collection\n",
    "collection_config = CollectionConfig(\n",
    "    name='dumbledore',\n",
    "    description=\"documents for quipbot regarding online dating and social media text game\",\n",
    "    metadata={},\n",
    "    is_auto_embedded=False,\n",
    "    embedding_dimensions=1536\n",
    ")"
   ]
  },
  {
   "cell_type": "code",
   "execution_count": null,
   "metadata": {},
   "outputs": [],
   "source": [
    "vectordb = ZepVectorStore.from_documents(\n",
    "    documents=docs,\n",
    "    collection_name='dumbledore',\n",
    "    embedding=embeddings,\n",
    "    config=collection_config,\n",
    "    api_url=ZEP_API_URL,\n",
    "    api_key=ZEP_API_KEY,\n",
    ")"
   ]
  },
  {
   "cell_type": "code",
   "execution_count": null,
   "metadata": {},
   "outputs": [],
   "source": []
  }
 ],
 "metadata": {
  "kernelspec": {
   "display_name": "langchain",
   "language": "python",
   "name": "python3"
  },
  "language_info": {
   "codemirror_mode": {
    "name": "ipython",
    "version": 3
   },
   "file_extension": ".py",
   "mimetype": "text/x-python",
   "name": "python",
   "nbconvert_exporter": "python",
   "pygments_lexer": "ipython3",
   "version": "3.10.0"
  },
  "orig_nbformat": 4
 },
 "nbformat": 4,
 "nbformat_minor": 2
}
